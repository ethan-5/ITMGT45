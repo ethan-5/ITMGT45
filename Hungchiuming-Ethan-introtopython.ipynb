{
 "cells": [
  {
   "cell_type": "markdown",
   "metadata": {},
   "source": [
    "```\n",
    "192465\n",
    "Hungchiuming\n",
    "2 BS ITE\n",
    "```\n",
    "\n"
   ]
  },
  {
   "cell_type": "code",
   "execution_count": 2,
   "metadata": {},
   "outputs": [
    {
     "name": "stdout",
     "output_type": "stream",
     "text": [
      "Enter first number: 32423\n",
      "Enter second number: 32\n",
      "Enter third number: 32\n",
      "The average is 10829.0\n"
     ]
    }
   ],
   "source": [
    "first = int(input('Enter first number: '))\n",
    "second = int(input('Enter second number: '))\n",
    "third = int(input('Enter third number: '))\n",
    "avrg = (first+second+third)/3\n",
    "print(\"The average is\",avrg)"
   ]
  },
  {
   "cell_type": "code",
   "execution_count": null,
   "metadata": {},
   "outputs": [],
   "source": []
  }
 ],
 "metadata": {
  "kernelspec": {
   "display_name": "Python 3",
   "language": "python",
   "name": "python3"
  },
  "language_info": {
   "codemirror_mode": {
    "name": "ipython",
    "version": 3
   },
   "file_extension": ".py",
   "mimetype": "text/x-python",
   "name": "python",
   "nbconvert_exporter": "python",
   "pygments_lexer": "ipython3",
   "version": "3.8.3"
  }
 },
 "nbformat": 4,
 "nbformat_minor": 4
}
