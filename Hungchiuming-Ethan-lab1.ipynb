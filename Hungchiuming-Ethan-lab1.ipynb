{
 "cells": [
  {
   "cell_type": "markdown",
   "metadata": {},
   "source": [
    "```\n",
    "192465\n",
    "Hungchiuming\n",
    "2 BS ITE\n",
    "```\n"
   ]
  },
  {
   "cell_type": "code",
   "execution_count": 14,
   "metadata": {},
   "outputs": [
    {
     "name": "stdout",
     "output_type": "stream",
     "text": [
      "Enter the amount in US Dollars: 5\n",
      "5.0 US dollar(s)= 250.0 Philippine Pesos\n"
     ]
    }
   ],
   "source": [
    "def dollars_to_pesos(usd):\n",
    "    return usd*50\n",
    "\n",
    "    \n",
    "usd = float(input ('Enter the amount in US Dollars: '))\n",
    "print (usd,'US dollar(s)=', dollars_to_pesos(usd), 'Philippine Pesos')\n"
   ]
  },
  {
   "cell_type": "code",
   "execution_count": null,
   "metadata": {},
   "outputs": [],
   "source": []
  }
 ],
 "metadata": {
  "kernelspec": {
   "display_name": "Python 3",
   "language": "python",
   "name": "python3"
  },
  "language_info": {
   "codemirror_mode": {
    "name": "ipython",
    "version": 3
   },
   "file_extension": ".py",
   "mimetype": "text/x-python",
   "name": "python",
   "nbconvert_exporter": "python",
   "pygments_lexer": "ipython3",
   "version": "3.8.3"
  }
 },
 "nbformat": 4,
 "nbformat_minor": 4
}
