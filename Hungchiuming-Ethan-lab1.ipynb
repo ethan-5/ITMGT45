{
 "cells": [
  {
   "cell_type": "markdown",
   "metadata": {},
   "source": [
    "```\n",
    "192465\n",
    "Hungchiuming\n",
    "2 BS ITE\n",
    "```\n"
   ]
  },
  {
   "cell_type": "code",
   "execution_count": 1,
   "metadata": {},
   "outputs": [
    {
     "name": "stdout",
     "output_type": "stream",
     "text": [
      "Enter the amount in US Dollars: 1\n",
      "1.0 US dollar(s)= 50.0 Philippine Pesos\n"
     ]
    }
   ],
   "source": [
    "def dollars_to_pesos(usd):\n",
    "    return usd*50\n",
    "\n",
    "    \n",
    "usd = float(input ('Enter the amount in US Dollars: '))\n",
    "print (usd,'US dollar(s)=', dollars_to_pesos(usd), 'Philippine Pesos')\n"
   ]
  },
  {
   "cell_type": "code",
   "execution_count": 7,
   "metadata": {},
   "outputs": [
    {
     "name": "stdout",
     "output_type": "stream",
     "text": [
      "Sample Input\n",
      "7\n",
      "3\n",
      "Sample Output\n",
      "10\n",
      "4\n",
      "21\n",
      "2\n",
      "1\n"
     ]
    }
   ],
   "source": [
    "print('Sample Input')\n",
    "a = int(input())\n",
    "b = int(input())\n",
    "print('Sample Output')\n",
    "print(a+b)\n",
    "print(a-b)\n",
    "print(a*b)\n",
    "print(a//b)\n",
    "print(a%b)\n",
    "\n"
   ]
  },
  {
   "cell_type": "code",
   "execution_count": 6,
   "metadata": {},
   "outputs": [
    {
     "name": "stdout",
     "output_type": "stream",
     "text": [
      "Enter kg: 200\n",
      "Enter cm: 180\n",
      "BMI:  61.72839506172839\n"
     ]
    }
   ],
   "source": [
    "def compute_bmi(kg,m):\n",
    "    return kg/convert_cm_to_m(cm)**2\n",
    "def convert_cm_to_m(cm):\n",
    "    return cm/100\n",
    "    \n",
    "kg = float(input ('Enter kg: '))\n",
    "cm = float(input ('Enter cm: '))\n",
    "m = convert_cm_to_m(cm)\n",
    "print ('BMI: ',compute_bmi(kg,m))"
   ]
  },
  {
   "cell_type": "code",
   "execution_count": null,
   "metadata": {},
   "outputs": [],
   "source": []
  }
 ],
 "metadata": {
  "kernelspec": {
   "display_name": "Python 3",
   "language": "python",
   "name": "python3"
  },
  "language_info": {
   "codemirror_mode": {
    "name": "ipython",
    "version": 3
   },
   "file_extension": ".py",
   "mimetype": "text/x-python",
   "name": "python",
   "nbconvert_exporter": "python",
   "pygments_lexer": "ipython3",
   "version": "3.8.3"
  }
 },
 "nbformat": 4,
 "nbformat_minor": 4
}
